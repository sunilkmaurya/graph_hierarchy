{
 "cells": [
  {
   "cell_type": "code",
   "execution_count": 23,
   "metadata": {},
   "outputs": [],
   "source": [
    "# Imports\n",
    "\n",
    "from graph_tool.all import *\n",
    "import numpy as np\n",
    "import networkx as nx\n",
    "import matplotlib.pyplot as plt\n",
    "%matplotlib inline\n",
    "graph_loc = \"data/\""
   ]
  },
  {
   "cell_type": "code",
   "execution_count": 24,
   "metadata": {},
   "outputs": [],
   "source": [
    "graph = ['citeseer','cora','pubmed','blogcatalog']"
   ]
  },
  {
   "cell_type": "code",
   "execution_count": 8,
   "metadata": {},
   "outputs": [],
   "source": [
    "def open_graph(graph):\n",
    "    with open(graph_loc+graph+\".edges\",\"r\") as f:\n",
    "        g = graph_tool.load_graph_from_csv(f,directed=False,csv_options={'delimiter':' '})\n",
    "        \n",
    "    return g\n",
    "\n",
    "#check if the graph works\n",
    "\n",
    "g = open_graph(graph[0])"
   ]
  },
  {
   "cell_type": "code",
   "execution_count": 11,
   "metadata": {},
   "outputs": [],
   "source": [
    "clust = graph_tool.clustering.local_clustering(g)"
   ]
  },
  {
   "cell_type": "code",
   "execution_count": 34,
   "metadata": {},
   "outputs": [],
   "source": [
    "list_clust = np.ndarray(shape=(g.num_vertices()),dtype=float)\n",
    "counter = 0\n",
    "for v in g.vertices():\n",
    "    list_clust[counter] = clust[v]\n",
    "    counter = counter + 1"
   ]
  },
  {
   "cell_type": "code",
   "execution_count": 41,
   "metadata": {},
   "outputs": [
    {
     "data": {
      "text/plain": [
       "1011"
      ]
     },
     "execution_count": 41,
     "metadata": {},
     "output_type": "execute_result"
    }
   ],
   "source": [
    "list_degree = np.ndarray(shape=(g.num_vertices()),dtype=float)\n",
    "counter = 0\n",
    "for v in g.vertices():\n",
    "    list_degree[counter] = \n",
    "    "
   ]
  },
  {
   "cell_type": "markdown",
   "metadata": {},
   "source": [
    "# using networkx"
   ]
  },
  {
   "cell_type": "code",
   "execution_count": 25,
   "metadata": {},
   "outputs": [],
   "source": [
    "def open_graph(graph):\n",
    "    g = nx.read_edgelist(graph_loc+graph+\".edges\",\"r\")\n",
    "    g_clust = nx.clustering(g)\n",
    "    g_degree = g.degree()\n",
    "    num_n = g.number_of_nodes()\n",
    "    arr_degree = np.ndarray(shape=(num_n),dtype = int)\n",
    "    arr_clust = np.ndarray(shape=(num_n),dtype = float)\n",
    "    for i in range(num_n):\n",
    "        arr_degree[i] = g_degree[str(i)]\n",
    "    ind_sort = np.argsort(arr_degree)\n",
    "    \n",
    "    for i in range(num_n):\n",
    "        arr_clust[i] = g_clust[str(i)]\n",
    "    arr_degree[0:num_n]=arr_degree[ind_sort]\n",
    "    arr_clust[0:num_n] = arr_clust[ind_sort]\n",
    "    plt.figure(figsize=(20,10))\n",
    "    plt.plot(arr_degree,arr_clust,linestyle='None',marker='o')\n",
    "    return None\n",
    "\n",
    "\n",
    "    \n"
   ]
  },
  {
   "cell_type": "code",
   "execution_count": 36,
   "metadata": {},
   "outputs": [
    {
     "data": {
      "text/plain": [
       "(array([0.        , 0.        , 0.        , ..., 0.02898382, 0.02454508,\n",
       "        0.0266406 ]), array([   1,    1,    1, ..., 3449, 3925, 3992]))"
      ]
     },
     "execution_count": 36,
     "metadata": {},
     "output_type": "execute_result"
    }
   ],
   "source": [
    "open_graph(graph[3])"
   ]
  },
  {
   "cell_type": "code",
   "execution_count": null,
   "metadata": {},
   "outputs": [],
   "source": []
  }
 ],
 "metadata": {
  "kernelspec": {
   "display_name": "Python 3",
   "language": "python",
   "name": "python3"
  },
  "language_info": {
   "codemirror_mode": {
    "name": "ipython",
    "version": 3
   },
   "file_extension": ".py",
   "mimetype": "text/x-python",
   "name": "python",
   "nbconvert_exporter": "python",
   "pygments_lexer": "ipython3",
   "version": "3.6.4"
  }
 },
 "nbformat": 4,
 "nbformat_minor": 2
}
